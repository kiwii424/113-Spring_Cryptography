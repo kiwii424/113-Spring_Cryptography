{
 "cells": [
  {
   "cell_type": "code",
   "execution_count": 22,
   "id": "e799e423",
   "metadata": {},
   "outputs": [],
   "source": [
    "import math"
   ]
  },
  {
   "cell_type": "markdown",
   "id": "b9963edf",
   "metadata": {},
   "source": [
    "### Question b"
   ]
  },
  {
   "cell_type": "code",
   "execution_count": 23,
   "id": "9f59c591",
   "metadata": {},
   "outputs": [
    {
     "name": "stdout",
     "output_type": "stream",
     "text": [
      "a = 1, a^-1 = 1\n",
      "a = 7, a^-1 = 13\n",
      "a = 11, a^-1 = 11\n",
      "a = 13, a^-1 = 7\n",
      "a = 17, a^-1 = 23\n",
      "a = 19, a^-1 = 19\n",
      "a = 23, a^-1 = 17\n",
      "a = 29, a^-1 = 29\n"
     ]
    }
   ],
   "source": [
    "n = 30\n",
    "for a in range(n):\n",
    "  if math.gcd(a, n) == 1:\n",
    "    for i in range(n):\n",
    "        if (a * i) % n == 1:\n",
    "          a_inv = i\n",
    "          print(f\"a = {a}, a^-1 = {a_inv}\")\n",
    "          break\n"
   ]
  },
  {
   "cell_type": "markdown",
   "id": "8e32d85a",
   "metadata": {},
   "source": [
    "### Question c"
   ]
  },
  {
   "cell_type": "code",
   "execution_count": 24,
   "id": "a601f479",
   "metadata": {},
   "outputs": [
    {
     "name": "stdout",
     "output_type": "stream",
     "text": [
      "y = 17*12 + 5 mod 83 = 43\n",
      "72 = 17*x + 5 mod 83 => x = 43\n",
      "a = 17, b = 5\n"
     ]
    }
   ],
   "source": [
    "data_points = [(45, 23), (2, 39)]\n",
    "prime = [31,37,41,43,47,53,59,61,67,71,73,79,83,89,97]\n",
    "\n",
    "for n in prime:\n",
    "  possible_solutions = []\n",
    "  for a in range(n):\n",
    "    for b in range(n):\n",
    "      valid = True\n",
    "      for x, y in data_points:\n",
    "          if (a * x + b) % n != y % n:\n",
    "              valid = False\n",
    "      if valid:\n",
    "          possible_solutions.append((a, b))\n",
    "\n",
    "  if len(possible_solutions) > 0:\n",
    "    for a, b in possible_solutions:\n",
    "        for i in range(n):\n",
    "          if (a * i) % n == 1:\n",
    "            a_inv = i\n",
    "            break\n",
    "\n",
    "        if ((a*12+b)%n)// 10 == 4 and (((72 - b) % n * a_inv) % n)%10 == 3:\n",
    "          print(f\"y = {a}*12 + {b} mod {n} = {(a*12+b)%n}\")\n",
    "          print(f\"72 = {a}*x + {b} mod {n} => x = {((72 - b) % n * a_inv) % n}\")\n",
    "          print(f\"a = {a}, b = {b}\")\n"
   ]
  },
  {
   "cell_type": "markdown",
   "id": "89fc9d74",
   "metadata": {},
   "source": [
    "### Question d"
   ]
  },
  {
   "cell_type": "code",
   "execution_count": 25,
   "id": "140a6698",
   "metadata": {},
   "outputs": [
    {
     "name": "stdout",
     "output_type": "stream",
     "text": [
      "模運算線性方程式求解器\n",
      "求解 y = ax + b mod n 中的 a 和 b 參數\n",
      "--------------------------------------------------\n",
      "n = 31\n",
      "a = 9, b = 21\n",
      "y = 9*12 + 21 mod 31 = 5\n",
      "a^-1 = 7\n",
      "x 使得 72 = 9*x + 21 mod 31 => x = 16\n",
      "--------------------------------------------------\n",
      "n = 37\n",
      "a = 22, b = 32\n",
      "y = 22*12 + 32 mod 37 = 0\n",
      "a^-1 = 32\n",
      "x 使得 72 = 22*x + 32 mod 37 => x = 22\n",
      "--------------------------------------------------\n",
      "n = 41\n",
      "a = 33, b = 14\n",
      "y = 33*12 + 14 mod 41 = 0\n",
      "a^-1 = 5\n",
      "x 使得 72 = 33*x + 14 mod 41 => x = 3\n",
      "--------------------------------------------------\n",
      "n = 43\n",
      "沒有找到符合的 a 和 b 值\n",
      "--------------------------------------------------\n",
      "n = 47\n",
      "a = 4, b = 31\n",
      "y = 4*12 + 31 mod 47 = 32\n",
      "a^-1 = 12\n",
      "x 使得 72 = 4*x + 31 mod 47 => x = 22\n",
      "--------------------------------------------------\n",
      "n = 53\n",
      "a = 44, b = 4\n",
      "y = 44*12 + 4 mod 53 = 2\n",
      "a^-1 = 47\n",
      "x 使得 72 = 44*x + 4 mod 53 => x = 16\n",
      "--------------------------------------------------\n",
      "n = 59\n",
      "a = 1, b = 37\n",
      "y = 1*12 + 37 mod 59 = 49\n",
      "a^-1 = 1\n",
      "x 使得 72 = 1*x + 37 mod 59 => x = 35\n",
      "--------------------------------------------------\n",
      "n = 61\n",
      "a = 28, b = 44\n",
      "y = 28*12 + 44 mod 61 = 14\n",
      "a^-1 = 24\n",
      "x 使得 72 = 28*x + 44 mod 61 => x = 1\n",
      "--------------------------------------------------\n",
      "n = 67\n",
      "a = 23, b = 60\n",
      "y = 23*12 + 60 mod 67 = 1\n",
      "a^-1 = 35\n",
      "x 使得 72 = 23*x + 60 mod 67 => x = 18\n",
      "--------------------------------------------------\n",
      "n = 71\n",
      "a = 31, b = 48\n",
      "y = 31*12 + 48 mod 71 = 65\n",
      "a^-1 = 55\n",
      "x 使得 72 = 31*x + 48 mod 71 => x = 42\n",
      "--------------------------------------------------\n",
      "n = 73\n",
      "a = 20, b = 72\n",
      "y = 20*12 + 72 mod 73 = 20\n",
      "a^-1 = 11\n",
      "x 使得 72 = 20*x + 72 mod 73 => x = 0\n",
      "--------------------------------------------------\n",
      "n = 79\n",
      "a = 18, b = 3\n",
      "y = 18*12 + 3 mod 79 = 61\n",
      "a^-1 = 22\n",
      "x 使得 72 = 18*x + 3 mod 79 => x = 17\n",
      "--------------------------------------------------\n",
      "n = 83\n",
      "a = 17, b = 5\n",
      "y = 17*12 + 5 mod 83 = 43\n",
      "a^-1 = 44\n",
      "x 使得 72 = 17*x + 5 mod 83 => x = 43\n",
      "--------------------------------------------------\n",
      "n = 89\n",
      "a = 70, b = 77\n",
      "y = 70*12 + 77 mod 89 = 27\n",
      "a^-1 = 14\n",
      "x 使得 72 = 70*x + 77 mod 89 => x = 19\n",
      "--------------------------------------------------\n",
      "n = 97\n",
      "a = 47, b = 42\n",
      "y = 47*12 + 42 mod 97 = 24\n",
      "a^-1 = 64\n",
      "x 使得 72 = 47*x + 42 mod 97 => x = 77\n"
     ]
    }
   ],
   "source": [
    "def find_modular_parameters(data_points, n):\n",
    "    if len(data_points) < 2:\n",
    "        return \"需要至少兩個數據點來求解 a 和 b\"\n",
    "    possible_solutions = []\n",
    "    for a in range(n):\n",
    "        for b in range(n):\n",
    "            valid = True\n",
    "            for x, y in data_points:\n",
    "                if (a * x + b) % n != y % n:\n",
    "                    valid = False\n",
    "                    break\n",
    "            if valid:\n",
    "                possible_solutions.append((a, b))\n",
    "    return possible_solutions\n",
    "def solve_for_unknown(a, b, n, x=None, y=None):\n",
    "    if x is None and y is not None:\n",
    "        for i in range(n):\n",
    "            if (a * i) % n == 1:\n",
    "                a_inv = i\n",
    "                break\n",
    "        else:\n",
    "            return \"無解：a 在模 n 下沒有乘法逆元\"\n",
    "        print(f\"a^-1 = {a_inv}\")\n",
    "        x = ((y - b) % n * a_inv) % n\n",
    "        return x\n",
    "    elif y is None and x is not None:\n",
    "        y = (a * x + b) % n\n",
    "        return y\n",
    "    else:\n",
    "        return \"錯誤：必須提供 x 或 y 其中之一\"\n",
    "def main():\n",
    "    print(\"模運算線性方程式求解器\")\n",
    "    print(\"求解 y = ax + b mod n 中的 a 和 b 參數\")\n",
    "    data_points = [(45, 23), (2, 39)]\n",
    "    prime = [31,37,41,43,47,53,59,61,67,71,73,79,83,89,97]\n",
    "    try:\n",
    "      for n in prime:\n",
    "        print(\"-\" * 50)\n",
    "        print(f\"n = {n}\")\n",
    "        solutions = find_modular_parameters(data_points, n)\n",
    "        if isinstance(solutions, str):\n",
    "            print(solutions)\n",
    "        elif len(solutions) == 0:\n",
    "            print(\"沒有找到符合的 a 和 b 值\")\n",
    "        else:\n",
    "            for a, b in solutions:\n",
    "                print(f\"a = {a}, b = {b}\")\n",
    "            if len(solutions) > 0:\n",
    "                y_unknown = solve_for_unknown(a, b, n, x=12)\n",
    "                print(f\"y = {a}*12 + {b} mod {n} = {y_unknown}\")\n",
    "                try:\n",
    "                    x_unknown = solve_for_unknown(a, b, n, y=72)\n",
    "                    print(f\"x 使得 72 = {a}*x + {b} mod {n} => x = {x_unknown}\")\n",
    "                except:\n",
    "                    print(f\"無法解出 x：可能 a 在模 {n} 下沒有乘法逆元\")\n",
    "    except ValueError:\n",
    "        print(\"輸入錯誤，請確保所有輸入都是整數\")\n",
    "if __name__ == \"__main__\":\n",
    "    main()\n"
   ]
  }
 ],
 "metadata": {
  "kernelspec": {
   "display_name": ".venv",
   "language": "python",
   "name": "python3"
  },
  "language_info": {
   "codemirror_mode": {
    "name": "ipython",
    "version": 3
   },
   "file_extension": ".py",
   "mimetype": "text/x-python",
   "name": "python",
   "nbconvert_exporter": "python",
   "pygments_lexer": "ipython3",
   "version": "3.9.6"
  }
 },
 "nbformat": 4,
 "nbformat_minor": 5
}
